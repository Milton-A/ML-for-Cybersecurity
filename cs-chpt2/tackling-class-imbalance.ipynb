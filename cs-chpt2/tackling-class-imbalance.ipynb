{
 "cells": [
  {
   "cell_type": "code",
   "execution_count": 4,
   "metadata": {},
   "outputs": [],
   "source": [
    "#Begin by loading the training and testing data, importing a decision tree, as well\n",
    "#as some libraries we will be using to score performance:\n",
    "\n",
    "from sklearn import tree\n",
    "from sklearn.metrics import balanced_accuracy_score\n",
    "import numpy as np\n",
    "import scipy.sparse\n",
    "import collections\n",
    "\n",
    "\n",
    "X_train = scipy.sparse.load_npz(\"assets/resources/training_data.npz\")\n",
    "y_train = np.load(\"assets/resources/training_labels.npy\")\n",
    "X_test = scipy.sparse.load_npz(\"assets/resources/test_data.npz\")\n",
    "y_test = np.load(\"assets/resources/test_labels.npy\")"
   ]
  },
  {
   "cell_type": "code",
   "execution_count": 8,
   "metadata": {},
   "outputs": [
    {
     "name": "stdout",
     "output_type": "stream",
     "text": [
      "Counter({np.int32(0): 120, np.int32(1): 11})\n",
      "0.8290229885057472\n"
     ]
    }
   ],
   "source": [
    "#Train and test a simple Decision Tree classifier:\n",
    "\n",
    "dt = tree.DecisionTreeClassifier()\n",
    "dt.fit(X_train, y_train)\n",
    "dt_pred = dt.predict(X_test)\n",
    "print(collections.Counter(dt_pred))\n",
    "print(balanced_accuracy_score(y_test, dt_pred))"
   ]
  },
  {
   "cell_type": "markdown",
   "metadata": {},
   "source": [
    "Next, we test several techniques to improve performance.\n",
    "Weighting: We set the class weights of our classifier to \"balanced\" and train\n",
    "and test this new classifier:\n"
   ]
  },
  {
   "cell_type": "code",
   "execution_count": 9,
   "metadata": {},
   "outputs": [
    {
     "name": "stdout",
     "output_type": "stream",
     "text": [
      "Counter({np.int32(0): 114, np.int32(1): 17})\n",
      "0.9913793103448276\n"
     ]
    }
   ],
   "source": [
    "dt_weighted = tree.DecisionTreeClassifier(class_weight=\"balanced\")\n",
    "dt_weighted.fit(X_train, y_train)\n",
    "dt_weighted_pred = dt_weighted.predict(X_test)\n",
    "print(collections.Counter(dt_weighted_pred))\n",
    "print(balanced_accuracy_score(y_test, dt_weighted_pred))"
   ]
  },
  {
   "cell_type": "code",
   "execution_count": 10,
   "metadata": {},
   "outputs": [],
   "source": [
    "#Upsampling the minor class: We extract all test samples from class 0 and class 1:\n",
    "from sklearn.utils import resample\n",
    "\n",
    "X_train_np = X_train.toarray()\n",
    "class_0_indices = [i for i, x in enumerate(y_train == 0) if x]\n",
    "class_1_indices = [i for i, x in enumerate(y_train == 1) if x]\n",
    "size_class_0 = sum(y_train == 0)\n",
    "X_train_class_0 = X_train_np[class_0_indices, :]\n",
    "y_train_class_0 = [0] * size_class_0\n",
    "X_train_class_1 = X_train_np[class_1_indices, :]"
   ]
  },
  {
   "cell_type": "code",
   "execution_count": 11,
   "metadata": {},
   "outputs": [],
   "source": [
    "#We upsample the elements of class 1 with replacements until the number of samples of class 1 and class 0 are equal:\n",
    "X_train_class_1_resampled = resample(\n",
    " X_train_class_1, replace=True, n_samples=size_class_0\n",
    ")\n",
    "y_train_class_1_resampled = [1] * size_class_0"
   ]
  },
  {
   "cell_type": "code",
   "execution_count": 12,
   "metadata": {},
   "outputs": [],
   "source": [
    "#We combine the newly upsampled samples into a single training set:\n",
    "X_train_resampled = np.concatenate([X_train_class_0,\n",
    "X_train_class_1_resampled])\n",
    "y_train_resampled = y_train_class_0 + y_train_class_1_resampled"
   ]
  },
  {
   "cell_type": "code",
   "execution_count": 13,
   "metadata": {},
   "outputs": [
    {
     "name": "stdout",
     "output_type": "stream",
     "text": [
      "Counter({np.int64(0): 115, np.int64(1): 16})\n",
      "0.9580459770114942\n"
     ]
    }
   ],
   "source": [
    "#We train and test a Random Forest classifier on our upsampled training set:\n",
    "\n",
    "from scipy import sparse\n",
    "X_train_resampled = sparse.csr_matrix(X_train_resampled)\n",
    "dt_resampled = tree.DecisionTreeClassifier()\n",
    "dt_resampled.fit(X_train_resampled, y_train_resampled)\n",
    "dt_resampled_pred = dt_resampled.predict(X_test)\n",
    "print(collections.Counter(dt_resampled_pred))\n",
    "print(balanced_accuracy_score(y_test, dt_resampled_pred))"
   ]
  },
  {
   "cell_type": "markdown",
   "metadata": {},
   "source": [
    "Downsampling the major class: We perform similar steps to the preceding\n",
    "upsampling, except this time we down-sample the major class until it is of the\n",
    "same size as the minor class:"
   ]
  },
  {
   "cell_type": "code",
   "execution_count": 14,
   "metadata": {},
   "outputs": [],
   "source": [
    "X_train_np = X_train.toarray()\n",
    "class_0_indices = [i for i, x in enumerate(y_train == 0) if x]\n",
    "class_1_indices = [i for i, x in enumerate(y_train == 1) if x]\n",
    "size_class_1 = sum(y_train == 1)\n",
    "X_train_class_1 = X_train_np[class_1_indices, :]\n",
    "y_train_class_1 = [1] * size_class_1\n",
    "X_train_class_0 = X_train_np[class_0_indices, :]\n",
    "X_train_class_0_downsampled = resample(\n",
    " X_train_class_0, replace=False, n_samples=size_class_1\n",
    ")\n",
    "y_train_class_0_downsampled = [0] * size_class_1"
   ]
  },
  {
   "cell_type": "code",
   "execution_count": 15,
   "metadata": {},
   "outputs": [],
   "source": [
    "#We create a new training set from the downsampled data:\n",
    "X_train_downsampled = np.concatenate([X_train_class_1,\n",
    "X_train_class_0_downsampled])\n",
    "y_train_downsampled = y_train_class_1 + y_train_class_0_downsampled"
   ]
  },
  {
   "cell_type": "code",
   "execution_count": 17,
   "metadata": {},
   "outputs": [
    {
     "name": "stdout",
     "output_type": "stream",
     "text": [
      "Counter({np.int64(0): 108, np.int64(1): 23})\n",
      "0.9655172413793103\n"
     ]
    }
   ],
   "source": [
    "#We train a Random Forest classifier on this dataset:\n",
    "X_train_downsampled = sparse.csr_matrix(X_train_downsampled)\n",
    "dt_downsampled = tree.DecisionTreeClassifier()\n",
    "dt_downsampled.fit(X_train_downsampled, y_train_downsampled)\n",
    "dt_downsampled_pred = dt_downsampled.predict(X_test)\n",
    "print(collections.Counter(dt_downsampled_pred))\n",
    "print(balanced_accuracy_score(y_test, dt_downsampled_pred))"
   ]
  },
  {
   "cell_type": "markdown",
   "metadata": {},
   "source": [
    "Classifier including inner balancing samplers: We utilize the imbalanced-learn\n",
    "package classifiers that resample subsets of data before the training estimators:"
   ]
  },
  {
   "cell_type": "code",
   "execution_count": 21,
   "metadata": {},
   "outputs": [
    {
     "name": "stdout",
     "output_type": "stream",
     "text": [
      "Counter({np.int32(0): 111, np.int32(1): 20})\n",
      "0.978448275862069\n"
     ]
    }
   ],
   "source": [
    "from imblearn.ensemble import BalancedBaggingClassifier\n",
    "balanced_clf = BalancedBaggingClassifier(\n",
    " estimator=tree.DecisionTreeClassifier(),\n",
    " sampling_strategy=\"auto\",\n",
    " replacement=True,\n",
    ")\n",
    "balanced_clf.fit(X_train, y_train)\n",
    "balanced_clf_pred = balanced_clf.predict(X_test)\n",
    "print(collections.Counter(balanced_clf_pred))\n",
    "print(balanced_accuracy_score(y_test, balanced_clf_pred))"
   ]
  }
 ],
 "metadata": {
  "kernelspec": {
   "display_name": "cs",
   "language": "python",
   "name": "python3"
  },
  "language_info": {
   "codemirror_mode": {
    "name": "ipython",
    "version": 3
   },
   "file_extension": ".py",
   "mimetype": "text/x-python",
   "name": "python",
   "nbconvert_exporter": "python",
   "pygments_lexer": "ipython3",
   "version": "3.13.0"
  }
 },
 "nbformat": 4,
 "nbformat_minor": 2
}
