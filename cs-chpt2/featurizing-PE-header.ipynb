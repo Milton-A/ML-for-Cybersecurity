{
 "cells": [
  {
   "cell_type": "markdown",
   "metadata": {},
   "source": [
    "In this section, we will extract features from the PE header to be used in building a\n",
    "malware/benign samples classifier. We will continue utilizing the pefile\n",
    "Python module"
   ]
  },
  {
   "cell_type": "code",
   "execution_count": 13,
   "metadata": {},
   "outputs": [],
   "source": [
    "#Import pefile and modules for enumerating our samples:\n",
    "import pefile\n",
    "from os import listdir\n",
    "from os.path import isfile, join\n",
    "directories = [\"assets/Benign_PE_Samples\", \"assets/Malicious_PE_Samples\"]"
   ]
  },
  {
   "cell_type": "code",
   "execution_count": 14,
   "metadata": {},
   "outputs": [],
   "source": [
    "#We define a function to collect the names of the sections of a file and preprocess\n",
    "#them for readability and normalization:\n",
    "def get_section_names(pe):\n",
    "    \"\"\"Gets a list of section names from a PE file.\"\"\"\n",
    "    list_of_section_names = []\n",
    "    for sec in pe.sections:\n",
    "        normalized_name = sec.Name.decode().replace(\"\\x00\",\n",
    "        \"\").lower()\n",
    "        list_of_section_names.append(normalized_name)\n",
    "    return list_of_section_names"
   ]
  },
  {
   "cell_type": "code",
   "execution_count": 15,
   "metadata": {},
   "outputs": [],
   "source": [
    "#We define a convenience function to preprocess and standardize our imports:\n",
    "def preprocess_imports(list_of_DLLs):\n",
    "    \"\"\"Normalize the naming of the imports of a PE file.\"\"\"\n",
    "    return [x.decode().split(\".\")[0].lower() for x in list_of_DLLs]"
   ]
  },
  {
   "cell_type": "code",
   "execution_count": 16,
   "metadata": {},
   "outputs": [],
   "source": [
    "#We then define a function to collect the imports from a file using pefile:\n",
    "def get_imports(pe):\n",
    "    \"\"\"Get a list of the imports of a PE file.\"\"\"\n",
    "    list_of_imports = []\n",
    "    for entry in pe.DIRECTORY_ENTRY_IMPORT:\n",
    "        list_of_imports.append(entry.dll)\n",
    "    return preprocess_imports(list_of_imports)"
   ]
  },
  {
   "cell_type": "markdown",
   "metadata": {},
   "source": [
    "Finally, we prepare to iterate through all of our files and create lists to store our\n",
    "features:"
   ]
  },
  {
   "cell_type": "code",
   "execution_count": 20,
   "metadata": {},
   "outputs": [
    {
     "name": "stdout",
     "output_type": "stream",
     "text": [
      "[['mscoree']]\n",
      "[['mscoree'], ['kernel32', 'user32', 'gdi32', 'shell32', 'advapi32', 'comctl32', 'ole32', 'version']]\n",
      "[['mscoree'], ['kernel32', 'user32', 'gdi32', 'shell32', 'advapi32', 'comctl32', 'ole32', 'version'], ['advapi32', 'comctl32', 'gdi32', 'kernel32', 'ole32', 'shell32', 'user32', 'version']]\n",
      "[['mscoree'], ['kernel32', 'user32', 'gdi32', 'shell32', 'advapi32', 'comctl32', 'ole32', 'version'], ['advapi32', 'comctl32', 'gdi32', 'kernel32', 'ole32', 'shell32', 'user32', 'version'], ['kernel32', 'msvcrt', 'msvcrt']]\n",
      "[['mscoree'], ['kernel32', 'user32', 'gdi32', 'shell32', 'advapi32', 'comctl32', 'ole32', 'version'], ['advapi32', 'comctl32', 'gdi32', 'kernel32', 'ole32', 'shell32', 'user32', 'version'], ['kernel32', 'msvcrt', 'msvcrt'], ['mscoree']]\n"
     ]
    }
   ],
   "source": [
    "imports_corpus = []\n",
    "num_sections = []\n",
    "section_names = []\n",
    "for dataset_path in directories:\n",
    "    samples = [f for f in listdir(dataset_path) if\n",
    "isfile(join(dataset_path, f))]\n",
    "    for file in samples:\n",
    "        file_path = dataset_path + \"/\" + file\n",
    "        try:\n",
    "        #In addition to collecting the preceding features, we also collect the number of sections of a file:\n",
    "            pe = pefile.PE(file_path)\n",
    "            imports = get_imports(pe)\n",
    "            n_sections = len(pe.sections)\n",
    "            sec_names = get_section_names(pe)\n",
    "            imports_corpus.append(imports)\n",
    "            num_sections.append(n_sections)\n",
    "            section_names.append(sec_names)\n",
    "            print(imports_corpus)\n",
    "        #In case a file's PE header cannot be parsed, we define a try-catch clause:\n",
    "        except Exception as e:\n",
    "            print(e)\n",
    "            print(\"Unable to obtain imports from \" + file_path)"
   ]
  },
  {
   "cell_type": "markdown",
   "metadata": {},
   "source": [
    "How it works...\n",
    "As you can see, in Step 1, we imported the pefile module to enumerate the samples. Once\n",
    "that is done, we define the convenience function, as you can see in Step 2. The reason being\n",
    "that it often imports using varying cases (upper/lower). This causes the same import to\n",
    "appear as distinct imports.\n",
    "After preprocessing the imports, we then define another function to collect all the imports\n",
    "of a file into a list. We will also define a function to collect the names of the sections of a file\n",
    "in order to standardize these names such as .text, .rsrc, and .reloc while containing\n",
    "distinct parts of the file (Step 3). The files are then enumerated in our folders and empty lists\n",
    "will be created to hold the features we will be extracting. The predefined functions will then\n",
    "collect the imports (Step 4), section names, and the number of sections of each file (Steps 5\n",
    "and 6). Lastly, a try-catch clause will be defined in case a file's PE header cannot be parsed\n",
    "(Step 7). This can happen for many reasons. One reason being that the file is not actually a\n",
    "PE file. Another reason is that its PE header is intentionally or unintentionally malformed."
   ]
  }
 ],
 "metadata": {
  "kernelspec": {
   "display_name": "cs",
   "language": "python",
   "name": "python3"
  },
  "language_info": {
   "codemirror_mode": {
    "name": "ipython",
    "version": 3
   },
   "file_extension": ".py",
   "mimetype": "text/x-python",
   "name": "python",
   "nbconvert_exporter": "python",
   "pygments_lexer": "ipython3",
   "version": "3.13.0"
  }
 },
 "nbformat": 4,
 "nbformat_minor": 2
}
