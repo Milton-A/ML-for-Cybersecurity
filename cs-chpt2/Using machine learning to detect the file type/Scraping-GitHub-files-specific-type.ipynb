{
 "cells": [
  {
   "cell_type": "markdown",
   "metadata": {},
   "source": [
    "One of the techniques hackers use to sneak their malicious files into security systems is to obfuscate their file types. For example, a (malicious) PowerShell script is expected to have an extension, .ps1. A system administrator can aim to combat the execution of all PowerShell scripts on a system by preventing the execution of all files with the .ps1 extension. However, the mischievous hacker can remove or change the extension, rendering the file's identity a mystery. Only by examining the contents of the file can it then be distinguished from an ordinary text file. For practical reasons, it is not possible for humans to examine all text files on a system. Consequently, it is expedient to resort to\n",
    "automated methods. In this chapter, we will demonstrate how you can use machine learning to detect the file type of an unknown file. Our first step is to curate a dataset."
   ]
  },
  {
   "cell_type": "markdown",
   "metadata": {},
   "source": [
    "1st step - Scraping GitHub for files of a specific type"
   ]
  },
  {
   "cell_type": "code",
   "execution_count": null,
   "metadata": {},
   "outputs": [
    {
     "data": {
      "text/plain": [
       "'\\nIn the following steps, we curate a dataset and then use it to create a classifier to determine\\nthe file type. For demonstration purposes, we show how to obtain a collection of\\nPowerShell scripts, Python scripts, and JavaScript files by scraping GitHub. A collection of\\nsamples obtained in this way can be found in the accompanying repository as\\nPowerShellSamples.7z, PythonSamples.7z, and JavascriptSamples.7z. First, we\\nwill write the code for the JavaScript scraper:\\n'"
      ]
     },
     "execution_count": 1,
     "metadata": {},
     "output_type": "execute_result"
    }
   ],
   "source": [
    "'''\n",
    "In the following steps, we curate a dataset and then use it to create a classifier to determine\n",
    "the file type. For demonstration purposes, we show how to obtain a collection of\n",
    "PowerShell scripts, Python scripts, and JavaScript files by scraping GitHub. A collection of\n",
    "samples obtained in this way can be found in the accompanying repository as\n",
    "PowerShellSamples.7z, PythonSamples.7z, and JavascriptSamples.7z. First, we\n",
    "will write the code for the JavaScript scraper:\n",
    "'''"
   ]
  },
  {
   "cell_type": "markdown",
   "metadata": {},
   "source": [
    "Begin by importing the PyGitHub library in order to be able to call the GitHub\n",
    "API. We also import the base64 module for decoding the base64 encoded files:"
   ]
  },
  {
   "cell_type": "code",
   "execution_count": 1,
   "metadata": {},
   "outputs": [],
   "source": [
    "import os\n",
    "from github import Github\n",
    "import base64"
   ]
  },
  {
   "cell_type": "markdown",
   "metadata": {},
   "source": [
    "We must supply our credentials, and then specify a query—in this case, for\n",
    "JavaScript—to select our repositories:"
   ]
  },
  {
   "cell_type": "code",
   "execution_count": 2,
   "metadata": {},
   "outputs": [],
   "source": [
    "username = \"Milton-A\"\n",
    "password = \"44.Divinha.21?\"\n",
    "target_dir = \"PythonSamples\"\n",
    "g = Github(username, password)\n",
    "repositories = g.search_repositories(query='language:powershell')\n",
    "n = 5\n",
    "i = 0"
   ]
  },
  {
   "cell_type": "code",
   "execution_count": null,
   "metadata": {},
   "outputs": [
    {
     "name": "stderr",
     "output_type": "stream",
     "text": [
      "Request GET /repos/ChrisTitusTech/winutil/contents/ failed with 403: Forbidden\n",
      "Setting next backoff to 2966.560544s\n"
     ]
    }
   ],
   "source": [
    "#We loop over the repositories matching our criteria:\n",
    "for repo in repositories:\n",
    "    repo_name = repo.name\n",
    "    target_dir_of_repo = target_dir+\"\\\\\"+repo_name\n",
    "\n",
    "    try:\n",
    "        #We create a directory for each repository matching our search criteria, and then read in its contents:\n",
    "        os.mkdir(target_dir_of_repo)\n",
    "        i += 1\n",
    "        contents = repo.get_contents(\"\")\n",
    "    \n",
    "        #We add all directories of the repository to a queue in order to list all of the files\n",
    "        #contained within the directories:\n",
    "        while len(contents) > 1:\n",
    "                file_content = contents.pop(0) \n",
    "                if file_content.type == \"dir\":\n",
    "                    contents.extend(repo.get_contents(file_content.path))\n",
    "                else:\n",
    "                    #If we find a non-directory file, we check whether its extension is .js:\n",
    "                    st = str(file_content)\n",
    "                    filename = st.split(\"\\\"\")[1].split(\"\\\"\")[0]\n",
    "                    extension = filename.split(\".\")[-1]\n",
    "                    if extension == \"py\":   \n",
    "                        #If the extension is .js, we write out a copy of the file:\n",
    "                        file_contents = repo.get_contents(file_content.path)\n",
    "                        file_data = base64.b64decode(file_contents.content)\n",
    "                        filename = filename.split(\"/\")[-1]\n",
    "                        file_out = open(target_dir_of_repo+\"/\"+filename, \"wb\")\n",
    "                        file_out.write(file_data)\n",
    "\n",
    "    except:\n",
    "        if i==n:\n",
    "            break    \n",
    "#Once finished, it is convenient to move all the JavaScript files into one folder.\n"
   ]
  },
  {
   "cell_type": "markdown",
   "metadata": {},
   "source": [
    "'''\n",
    "To obtain PowerShell samples, run the same code, changing the following:\n",
    "    target_dir = \"/path/to/JavascriptSamples/\"\n",
    "    repositories = g.search_repositories(query='language:javascript')\n",
    "To the following:\n",
    "    target_dir = \"/path/to/PowerShellSamples/\"\n",
    "    repositories = g.search_repositories(query='language:powershell').\n",
    "Similarly, for Python files, we do the following:\n",
    "    target_dir = \"/path/to/PythonSamples/\"\n",
    "    repositories = g.search_repositories(query='language:python').\n",
    "'''"
   ]
  }
 ],
 "metadata": {
  "kernelspec": {
   "display_name": "cs",
   "language": "python",
   "name": "python3"
  },
  "language_info": {
   "codemirror_mode": {
    "name": "ipython",
    "version": 3
   },
   "file_extension": ".py",
   "mimetype": "text/x-python",
   "name": "python",
   "nbconvert_exporter": "python",
   "pygments_lexer": "ipython3",
   "version": "3.13.0"
  }
 },
 "nbformat": 4,
 "nbformat_minor": 2
}
