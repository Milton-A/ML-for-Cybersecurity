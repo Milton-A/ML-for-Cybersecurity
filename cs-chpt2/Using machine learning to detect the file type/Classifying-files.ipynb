{
 "cells": [
  {
   "cell_type": "code",
   "execution_count": 3,
   "metadata": {},
   "outputs": [],
   "source": [
    "#Begin by importing the necessary libraries and specifying the paths of the\n",
    "#samples we will be using to train and test:\n",
    "\n",
    "import os\n",
    "from sklearn.feature_extraction.text import HashingVectorizer, TfidfTransformer\n",
    "from sklearn.ensemble import RandomForestClassifier\n",
    "from sklearn.model_selection import train_test_split\n",
    "from sklearn.metrics import accuracy_score, confusion_matrix\n",
    "from sklearn.pipeline import Pipeline\n",
    "javascript_path = \"JavascriptSamples/\"\n",
    "python_path = \"PythonSamples/\"\n",
    "powershell_path = \"PowerShellSamples/\""
   ]
  },
  {
   "cell_type": "markdown",
   "metadata": {},
   "source": [
    "Next, we read in all of the file types. We also create an array of labels with -1, 0,\n",
    "and 1 representing the JavaScript, Python, and PowerShell scripts, respectively:\n"
   ]
  },
  {
   "cell_type": "code",
   "execution_count": 16,
   "metadata": {},
   "outputs": [
    {
     "name": "stdout",
     "output_type": "stream",
     "text": [
      "JavascriptSamples/\n",
      "PythonSamples/\n",
      "PowerShellSamples/\n"
     ]
    }
   ],
   "source": [
    "corpus = []\n",
    "labels = []\n",
    "file_types_and_labels = [(javascript_path, -1), (python_path, 0),\n",
    "(powershell_path, 1)]\n",
    "for files_path, label in file_types_and_labels:\n",
    "    files = os.listdir(files_path)\n",
    "    for file in files:\n",
    "        file_path = files_path + \"/\" + file\n",
    "        try:\n",
    "            with open(file_path, \"r\") as myfile:\n",
    "                data = myfile.read().replace(\"\\n\", \"\")\n",
    "        except:\n",
    "            pass\n",
    "        data = str(data)\n",
    "        corpus.append(data)\n",
    "        labels.append(label)"
   ]
  },
  {
   "cell_type": "markdown",
   "metadata": {},
   "source": [
    "We go on to create a train-test split and a pipeline that will perform basic NLP on\n",
    "the files, followed by a random forest classifier:"
   ]
  },
  {
   "cell_type": "code",
   "execution_count": 17,
   "metadata": {},
   "outputs": [
    {
     "name": "stdout",
     "output_type": "stream",
     "text": [
      "0.9914432401597262\n",
      "[[1221    1    0]\n",
      " [  14  516    0]\n",
      " [   0    0    1]]\n"
     ]
    }
   ],
   "source": [
    "X_train, X_test, y_train, y_test = train_test_split(corpus, labels, test_size=0.33, random_state=11)\n",
    "text_clf = Pipeline(\n",
    "    [\n",
    "    (\"vect\", HashingVectorizer(input=\"content\", ngram_range=(1,3))),\n",
    "    (\"tfidf\", TfidfTransformer(use_idf=True,)),\n",
    "    (\"rf\", RandomForestClassifier(class_weight=\"balanced\")),\n",
    "    ]\n",
    ")\n",
    "\n",
    "text_clf.fit(X_train, y_train)\n",
    "y_test_pred = text_clf.predict(X_test)\n",
    "print(accuracy_score(y_test, y_test_pred))\n",
    "print(confusion_matrix(y_test, y_test_pred))"
   ]
  }
 ],
 "metadata": {
  "kernelspec": {
   "display_name": "cs",
   "language": "python",
   "name": "python3"
  },
  "language_info": {
   "codemirror_mode": {
    "name": "ipython",
    "version": 3
   },
   "file_extension": ".py",
   "mimetype": "text/x-python",
   "name": "python",
   "nbconvert_exporter": "python",
   "pygments_lexer": "ipython3",
   "version": "3.13.0"
  }
 },
 "nbformat": 4,
 "nbformat_minor": 2
}
