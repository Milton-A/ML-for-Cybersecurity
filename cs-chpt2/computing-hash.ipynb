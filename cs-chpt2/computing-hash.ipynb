{
 "cells": [
  {
   "cell_type": "code",
   "execution_count": 1,
   "metadata": {},
   "outputs": [],
   "source": [
    "#Begin by importing the libraries and selecting the desired file you wish to hash\n",
    "import sys\n",
    "import hashlib\n",
    "filename = \"app.exe\""
   ]
  },
  {
   "cell_type": "code",
   "execution_count": 12,
   "metadata": {},
   "outputs": [],
   "source": [
    "#Instantiate the MD5 and SHA256 objects, and specify the size of the chunks we will be reading:\n",
    "BUF_SIZE = 65536\n",
    "md5 = hashlib.md5()\n",
    "sha256 = hashlib.sha256()"
   ]
  },
  {
   "cell_type": "code",
   "execution_count": null,
   "metadata": {},
   "outputs": [],
   "source": [
    "#We then read in the file in chunks of 64 KB and incrementally construct our hashes:\n",
    "with open(filename, \"rb\") as f:\n",
    "    while True:\n",
    "        data = f.read(BUF_SIZE)\n",
    "        if not data:\n",
    "            break\n",
    "        md5.update(data)\n",
    "        sha256.update(data)"
   ]
  },
  {
   "cell_type": "code",
   "execution_count": null,
   "metadata": {},
   "outputs": [
    {
     "name": "stdout",
     "output_type": "stream",
     "text": [
      "MD5: 0330d0bd7341a9afe5b6d161b1ff4aa1\n",
      "SHA256: 67cb9d3452c9dd974b04f4a5fd842dbcba8184f2344ff72e3662d7cdb68b099b\n"
     ]
    }
   ],
   "source": [
    "#Finally, print out the resulting hashes:\n",
    "print(\"MD5: {0}\".format(md5.hexdigest()))\n",
    "print(\"SHA256: {0}\".format(sha256.hexdigest()))"
   ]
  }
 ],
 "metadata": {
  "kernelspec": {
   "display_name": "base",
   "language": "python",
   "name": "python3"
  },
  "language_info": {
   "codemirror_mode": {
    "name": "ipython",
    "version": 3
   },
   "file_extension": ".py",
   "mimetype": "text/x-python",
   "name": "python",
   "nbconvert_exporter": "python",
   "pygments_lexer": "ipython3",
   "version": "3.12.7"
  }
 },
 "nbformat": 4,
 "nbformat_minor": 2
}
